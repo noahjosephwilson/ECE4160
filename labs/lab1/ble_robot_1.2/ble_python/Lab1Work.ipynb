{
 "cells": [
  {
   "cell_type": "code",
   "execution_count": 2,
   "id": "de961ef7-0db6-4c3f-91b3-d6d7cb3c44a8",
   "metadata": {},
   "outputs": [],
   "source": [
    "%load_ext autoreload\n",
    "%autoreload 2\n",
    "\n",
    "from ble import get_ble_controller\n",
    "from base_ble import LOG\n",
    "from cmd_types import CMD\n",
    "import time\n",
    "import numpy as np\n",
    "\n",
    "LOG.propagate = False"
   ]
  },
  {
   "cell_type": "code",
   "execution_count": 3,
   "id": "a4f765aa-6623-4a24-bbbe-2b9925b8654e",
   "metadata": {},
   "outputs": [
    {
     "name": "stdout",
     "output_type": "stream",
     "text": [
      "2025-01-29 16:03:40,676 |\u001b[32m INFO     \u001b[0m|: Looking for Artemis Nano Peripheral Device: c0:c3:f5:25:05:51\n",
      "2025-01-29 16:03:43,694 |\u001b[32m INFO     \u001b[0m|: Connected to c0:c3:f5:25:05:51\n"
     ]
    },
    {
     "name": "stderr",
     "output_type": "stream",
     "text": [
      "/Users/noahwilson21/Desktop/ece4160/ble_robot_1.2/ble_python/base_ble.py:104: FutureWarning: This method will be removed future version, pass the callback to the BleakClient constructor instead.\n",
      "  self.client.set_disconnected_callback(self.disconnect_handler)\n"
     ]
    }
   ],
   "source": [
    "ble = get_ble_controller()\n",
    "\n",
    "# Connect to the Artemis Device\n",
    "ble.connect()"
   ]
  },
  {
   "cell_type": "code",
   "execution_count": 3,
   "id": "23bf6d09-debd-4b21-8a6b-94f2aeffdabb",
   "metadata": {},
   "outputs": [
    {
     "name": "stdout",
     "output_type": "stream",
     "text": [
      "Robot says -> Hello World\n"
     ]
    }
   ],
   "source": [
    "ble.send_command(CMD.ECHO, \"Hello World\")\n",
    "s = ble.receive_string(ble.uuid['RX_STRING'])\n",
    "print(s)"
   ]
  },
  {
   "cell_type": "code",
   "execution_count": 4,
   "id": "e5e6a751-fd72-4c20-8174-f0110e423c10",
   "metadata": {},
   "outputs": [
    {
     "name": "stdout",
     "output_type": "stream",
     "text": [
      "2025-01-29 16:06:07,304 |\u001b[32m INFO     \u001b[0m|: Disconnected from 73FFA68C-5F99-5B27-4DA8-32F7358C4738\n"
     ]
    }
   ],
   "source": [
    "ble.send_command(CMD.SEND_THREE_FLOATS, \".07|-6.0|5.0\")"
   ]
  },
  {
   "cell_type": "code",
   "execution_count": 5,
   "id": "333ed10f-ab24-415c-a5c3-fab8f279decd",
   "metadata": {},
   "outputs": [
    {
     "name": "stdout",
     "output_type": "stream",
     "text": [
      "T:73576.000\n",
      "2025-01-29 16:02:23,728 |\u001b[32m INFO     \u001b[0m|: Disconnected from 73FFA68C-5F99-5B27-4DA8-32F7358C4738\n"
     ]
    }
   ],
   "source": [
    "ble.send_command(CMD.GET_TIME_MILLIS, \"\")\n",
    "s = ble.receive_string(ble.uuid['RX_STRING'])\n",
    "print(s)"
   ]
  },
  {
   "cell_type": "code",
   "execution_count": null,
   "id": "f08368eb-9364-451f-a142-7fca2370f286",
   "metadata": {},
   "outputs": [],
   "source": []
  }
 ],
 "metadata": {
  "kernelspec": {
   "display_name": "Python 3 (ipykernel)",
   "language": "python",
   "name": "python3"
  },
  "language_info": {
   "codemirror_mode": {
    "name": "ipython",
    "version": 3
   },
   "file_extension": ".py",
   "mimetype": "text/x-python",
   "name": "python",
   "nbconvert_exporter": "python",
   "pygments_lexer": "ipython3",
   "version": "3.13.1"
  }
 },
 "nbformat": 4,
 "nbformat_minor": 5
}
